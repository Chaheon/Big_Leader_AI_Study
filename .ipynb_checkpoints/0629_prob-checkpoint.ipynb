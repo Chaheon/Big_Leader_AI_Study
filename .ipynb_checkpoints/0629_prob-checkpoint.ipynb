{
 "cells": [
  {
   "cell_type": "markdown",
<<<<<<< Updated upstream
=======
   "id": "humanitarian-secretariat",
>>>>>>> Stashed changes
   "metadata": {},
   "source": [
    "# 실습 문제 풀이 "
   ]
  },
  {
   "cell_type": "markdown",
<<<<<<< Updated upstream
=======
   "id": "seventh-round",
>>>>>>> Stashed changes
   "metadata": {},
   "source": [
    "## 교수님 중간과제 문제 "
   ]
  },
  {
   "cell_type": "markdown",
<<<<<<< Updated upstream
=======
   "id": "serial-sellers",
>>>>>>> Stashed changes
   "metadata": {},
   "source": [
    "나는 IT 회사에 다니고 있는 프로그래머이다. 팀원들과 개발 계획 회의 안건으로 포스트코로나 시대에 많이 사용될 프로그램에 대해서 의논하고 있다. 많은 안건 중 팀장님께서 무인 POS(점포 판매 시스템)가 많이 사용될 것이라고 예상을 하고 무인 POS를 개발하자고 하셨다.\n",
    "\n",
    "먼저, 관리자 모드와 메뉴 주문 모드 및 결제모드로 구분된다. 관리자 모드는 비밀번호가 설정되어 있고, 메뉴 및 가격을 추가 및 삭제의 수정을 할 수 있다.\n",
    "\n",
    "기본 메뉴로는 자장면 5000원, 짬뽕 6000원, 볶음밥 6000원, 탕수육 10000원이고 주문 시에는 메뉴 종류와 개수를 입력한다. 또한, 테이블 번호도 메뉴 주문 시에 입력을 한다.\n",
    "\n",
    "결제시에는 테이블 번호를 입력하면 주문한 메뉴 내역이 출력이 된다. 카드 또는 현금으로 처리할 것이지 선택 후 금액을 입력하면 결제가 완료 된다. 카드면 처리가 바로 완료되며, 현금이면 입금 금액에 따라서 잔액을 알려줘야 한다.\n",
    "\n",
    "결제 내역(list_pay.txt)은 정산을 위해 파일로 저장이 되어야 한다. 소스코드는 코드의 재사용 및 효율성을 위해 함수를 만들어서 작성하라는 지시를 받았다."
   ]
  },
  {
   "cell_type": "markdown",
<<<<<<< Updated upstream
=======
   "id": "affected-willow",
>>>>>>> Stashed changes
   "metadata": {},
   "source": [
    "### 풀이 1"
   ]
  },
  {
   "cell_type": "code",
   "execution_count": 11,
<<<<<<< Updated upstream
=======
   "id": "heard-sailing",
>>>>>>> Stashed changes
   "metadata": {},
   "outputs": [],
   "source": [
    "def admin_mod(dic) :\n",
    "    manu, fee = input(\"메뉴과 가격을 입력해주세요.\").split(' ')\n",
    "    dic[manu] = fee\n",
    "    return dic"
   ]
  },
  {
   "cell_type": "code",
   "execution_count": 8,
<<<<<<< Updated upstream
=======
   "id": "republican-bench",
>>>>>>> Stashed changes
   "metadata": {},
   "outputs": [],
   "source": [
    "oder_dic = {'자장면' : 2, '짬뽕' : 2}\n",
    "with open('oder.txt', 'w') as f :\n",
    "    for i in oder_dic :\n",
    "        f.write(i+' '+str(oder_dic[i])+'\\n')"
   ]
  },
  {
   "cell_type": "code",
   "execution_count": 27,
<<<<<<< Updated upstream
=======
   "id": "interracial-entertainment",
>>>>>>> Stashed changes
   "metadata": {},
   "outputs": [],
   "source": [
    "def order_mod(dic) :\n",
    "    order_dic = {}\n",
    "    total = 0\n",
    "    for i in dic.keys() :\n",
    "        order_dic[i] = 0\n",
    "    while(1) :\n",
    "        try :\n",
    "            print('메뉴', dic.keys())\n",
    "            manu, num = input('메뉴와 수량 또는 결제를 작성해 주세요.').split(' ')            \n",
    "            order_dic[manu] = num\n",
    "        except :\n",
    "            for i in order_dic.keys() :\n",
    "                if int(order_dic[i]) > 0 :\n",
    "                    total += int(order_dic[i]) * int(dic[i])\n",
    "            with open('order.txt', 'w') as f :\n",
    "                for i in oder_dic :\n",
    "                    f.write(i+' '+str(oder_dic[i])+'\\n') \n",
    "                f.write('총 금액 : '+str(total))\n",
    "            return order_dic"
   ]
  },
  {
   "cell_type": "code",
   "execution_count": null,
<<<<<<< Updated upstream
=======
   "id": "radical-basis",
>>>>>>> Stashed changes
   "metadata": {},
   "outputs": [],
   "source": [
    "def pos_order(dic) :\n",
    "    mode = input()\n",
    "    if mode == \"관리자 모드\" :\n",
    "        dic = admin_mod(dic)\n",
    "    elif mode == \"메뉴 주문 모드\" :\n",
    "        order_mod(dic)"
   ]
  },
  {
   "cell_type": "code",
   "execution_count": 28,
<<<<<<< Updated upstream
=======
   "id": "adequate-wesley",
>>>>>>> Stashed changes
   "metadata": {},
   "outputs": [
    {
     "name": "stdout",
     "output_type": "stream",
     "text": [
      "메뉴 dict_keys(['자장면', '짬뽕', '볶음밥', '탕수육'])\n",
      "메뉴와 수량 또는 결제를 작성해 주세요.자장면 2\n",
      "메뉴 dict_keys(['자장면', '짬뽕', '볶음밥', '탕수육'])\n",
      "메뉴와 수량 또는 결제를 작성해 주세요.\n"
     ]
    },
    {
     "data": {
      "text/plain": [
       "{'자장면': '2', '짬뽕': 0, '볶음밥': 0, '탕수육': 0}"
      ]
     },
     "execution_count": 28,
     "metadata": {},
     "output_type": "execute_result"
    }
   ],
   "source": [
    "manu_dic = {\"자장면\":5000, \"짬뽕\":6000, \"볶음밥\":6000, \"탕수육\":10000}\n",
    "\n",
    "order_mod(manu_dic)"
   ]
  },
  {
   "cell_type": "markdown",
<<<<<<< Updated upstream
=======
   "id": "published-tenant",
>>>>>>> Stashed changes
   "metadata": {},
   "source": [
    "### 풀이 2 (문호준)"
   ]
  },
  {
   "cell_type": "code",
   "execution_count": 1,
<<<<<<< Updated upstream
=======
   "id": "guided-march",
>>>>>>> Stashed changes
   "metadata": {},
   "outputs": [
    {
     "ename": "SyntaxError",
     "evalue": "unexpected EOF while parsing (<ipython-input-1-452c91bc01ac>, line 1)",
     "output_type": "error",
     "traceback": [
      "\u001b[1;36m  File \u001b[1;32m\"<ipython-input-1-452c91bc01ac>\"\u001b[1;36m, line \u001b[1;32m1\u001b[0m\n\u001b[1;33m    def POS():\u001b[0m\n\u001b[1;37m              ^\u001b[0m\n\u001b[1;31mSyntaxError\u001b[0m\u001b[1;31m:\u001b[0m unexpected EOF while parsing\n"
     ]
    }
   ],
   "source": [
    "class POS():\n",
    "    def __init__(self):\n",
    "        menu = open('menu.txt', 'w')\n",
    "        menu.write('자장면:5000,짬뽕:6000,볶음밥:6000,탕수육:10000')\n",
    "        menu.close()\n",
    "        \n",
    "        list_pay = open('list_pay.txt', 'w')\n",
    "        list_pay.close()\n",
    "        \n",
    "        passw = input('POS 작동 시작합니다!\\n비밀번호를 뭐로 설정할까요? : ')\n",
    "        self.password = passw\n",
    "        self.pay_stack = []\n",
    "        \n",
    "    def choose_mode(self):\n",
    "        mod = -1\n",
    "        while not mod in [0,1,2]:\n",
    "            mod = input('무슨 모드로 접속하나요?(0:관리자, 1:메뉴 주문, 2:결제)\\n:')\n",
    "        self.mode = mod\n",
    "    \n",
    "    def run(self):\n",
    "        if self.mode == 0:\n",
    "            key = input('비밀번호를 입력하세요! : ')\n",
    "            if self.is_password(key):\n",
    "                self.edit_menu()\n",
    "            else: \n",
    "                print('비밀번호가 틀렸습니다!!!!!')\n",
    "                return\n",
    "        elif self.mode == 1:\n",
    "            key = self.choose_menu() # [메뉴 이름, 갯수, 테이블 번호]\n",
    "            self.stack_pay(key)\n",
    "        \n",
    "        elif self.mode == 2:\n",
    "            key = input('테이블 번호를 입력하세요!! : ')\n",
    "            if self.is_pay(key):\n",
    "                pay(key)\n",
    "            else:\n",
    "                print('해당 테이블에는 주문이 없습니다!!')\n",
    "        \n",
    "    def is_password(self, key): #action : key와 패스워드 같은지 확인 / return : Bool 형 자료 반환\n",
    "        return key == self.password\n",
    "    \n",
    "    def edit_menu(self):\n",
    "        mod = -1\n",
    "        menus = self.print_menu()\n",
    "        \n",
    "        while not mod in [0, 1]\n",
    "            mod = input('[0] : 메뉴 추가/가격 수정 [1] 메뉴 삭제 ')\n",
    "        \n",
    "        if mod == 0:\n",
    "            name = input('메뉴명 : ')\n",
    "            price = input('가격 : ')\n",
    "            menus[name] = price\n",
    "            print('[{name} : {price}] 추가!')\n",
    "        elif mod == 1:\n",
    "            name = input('메뉴명 : ')\n",
    "            if name in menus.keys():\n",
    "                del menus['name']\n",
    "            else:\n",
    "                print('해당 메뉴가 없습니다!')\n",
    "        \n",
    "        menu_f = open('menu.txt', 'r')\n",
    "        text = \"\"\n",
    "        for key in menus.keys():\n",
    "            text += key + ':' + str(menus[key])\n",
    "        menu_f.write()\n",
    "            \n",
    "        \n",
    "    def print_menu(self): #action : 메뉴 출력 / return : 메뉴 목록 딕셔너리로 반환 \n",
    "        print('메뉴 출력\\n========================')\n",
    "        menus = {}\n",
    "        menu_file = open('menu.txt', 'r')\n",
    "        temp = (menu_file.readlines()[0]).split(',')\n",
    "        for t in temp:\n",
    "            temp2 = t.split(':')\n",
    "            menus[temp2[0]] = int(temp2[1])\n",
    "            name = temp2[0]; price = int(temp2[1])\n",
    "            print(f'{name}\\t:{price}')\n",
    "        print('========================')\n",
    "        menu_file.close()\n",
    "        return menus\n",
    "            \n",
    "            \n",
    "            \n",
    "                \n",
    "            \n",
    "            "
   ]
  },
  {
   "cell_type": "markdown",
<<<<<<< Updated upstream
=======
   "id": "civilian-capability",
>>>>>>> Stashed changes
   "metadata": {},
   "source": [
    "### 풀이3"
   ]
  },
  {
   "cell_type": "code",
   "execution_count": null,
<<<<<<< Updated upstream
=======
   "id": "colored-flash",
>>>>>>> Stashed changes
   "metadata": {},
   "outputs": [],
   "source": [
    "class POS():\n",
    "    def __init__(self):\n",
    "        menu = open('menu.txt', 'w')\n",
    "        menu.write('자장면:5000,짬뽕:6000,볶음밥:6000,탕수육:10000')\n",
    "        menu.close()\n",
    "        \n",
    "        list_pay = open('list_pay.txt', 'w')\n",
    "        list_pay.close()\n",
    "        \n",
    "        passw = input('POS 작동 시작합니다!\\n비밀번호를 뭐로 설정할까요? : ')\n",
    "        self.password = passw\n",
    "        self.pay_stack = []\n",
    "        \n",
    "    def choose_mode(self):\n",
    "        mod = -1\n",
    "        while not mod in [0,1,2]:\n",
    "            mod = int(input('무슨 모드로 접속하나요?(0:관리자, 1:메뉴 주문, 2:결제)\\n:'))\n",
    "        self.mode = mod\n",
    "    \n",
    "    def run(self):\n",
    "        if self.mode == 0:\n",
    "            key = input('비밀번호를 입력하세요! : ')\n",
    "            if self.is_password(key):\n",
    "                self.edit_menu()\n",
    "            else: \n",
    "                print('비밀번호가 틀렸습니다!!!!!')\n",
    "                return\n",
    "        elif self.mode == 1:\n",
    "            key = self.choose_menu() # [테이블 번호, ['자장면', 3, '탕수육', 4, ~]] 이런 식으로 넘길 생각\n",
    "            self.stack_pay(key)\n",
    "        \n",
    "        elif self.mode == 2:\n",
    "            key = int(input('테이블 번호를 입력하세요!! : '))\n",
    "            if self.is_pay(key):\n",
    "                self.pay(key)\n",
    "            else:\n",
    "                print('해당 테이블에는 주문이 없습니다!!')\n",
    "        \n",
    "    def is_password(self, key): #action : key와 패스워드 같은지 확인 / return : Bool 형 자료 반환\n",
    "        return key == self.password\n",
    "    \n",
    "    def edit_menu(self):\n",
    "        mod = -1\n",
    "        menus = self.print_menu()\n",
    "        \n",
    "        while not mod in [0, 1]:\n",
    "            mod = int(input('[0] : 메뉴 추가/가격 수정 [1] 메뉴 삭제 '))\n",
    "        \n",
    "        if mod == 0:\n",
    "            name = input('메뉴명 : ')\n",
    "            price = input('가격 : ')\n",
    "            menus[name] = price\n",
    "            print(f'[{name} : {price}] 추가!')\n",
    "        elif mod == 1:\n",
    "            name = input('메뉴명 : ')\n",
    "            if name in menus.keys():\n",
    "                del menus[name]\n",
    "            else:\n",
    "                print('해당 메뉴가 없습니다!')\n",
    "        \n",
    "        menu_f = open('menu.txt', 'w')\n",
    "        text = \"\"\n",
    "        for key in menus.keys():\n",
    "            text += key + ':' + str(menus[key]) + ','\n",
    "        text = text [:-1] # '자장면:5000,짬뽕:6000,볶음밥:6000,탕수육:10000' 처럼 끝에는 ,가 없도록 마지막 글자를 짤라냄\n",
    "        menu_f.write(text)\n",
    "        menu_f.close()\n",
    "        self.menus = menus\n",
    "            \n",
    "        \n",
    "    def print_menu(self): #action : 메뉴 출력 / return : 메뉴 목록 딕셔너리로 반환 \n",
    "        print('\\n메뉴 출력\\n========================')\n",
    "        menus = {}\n",
    "        menu_file = open('menu.txt', 'r')\n",
    "        temp = (menu_file.readlines()[0]).split(',')\n",
    "        for t in temp:\n",
    "            temp2 = t.split(':')\n",
    "            menus[temp2[0]] = int(temp2[1])\n",
    "            name = temp2[0]; price = int(temp2[1])\n",
    "            print(f'{name}\\t:{price}원')\n",
    "        print('========================')\n",
    "        menu_file.close()\n",
    "        self.menus = menus\n",
    "        return menus\n",
    "    \n",
    "    \n",
    "    def choose_menu(self):\n",
    "        orders = []\n",
    "        while 1:\n",
    "            order = -1\n",
    "            menus = self.print_menu()\n",
    "\n",
    "            while not order in menus.keys():\n",
    "                order = input('메뉴 선택 : ')\n",
    "\n",
    "            menu_no = int(input(f'{order}를 몇 개 시키실 건가요? : ' ))\n",
    "            if order in orders:\n",
    "                orders[orders.index(order) + 1] += menu_no\n",
    "            else:\n",
    "                orders.append(order)\n",
    "                orders.append(menu_no)\n",
    "\n",
    "            continue_or_not = -1\n",
    "            while not continue_or_not in ['y','n','Y','N']:\n",
    "                continue_or_not = input('더 주문하실 게 있으신가요? (y/n) : ')\n",
    "\n",
    "            if continue_or_not in ['n', 'N']:\n",
    "                break\n",
    "        \n",
    "        print('================================')\n",
    "        for i in range(0, len(orders), 2):\n",
    "            print(f'{orders[i]}\\t: {orders[i+1]}\\t : {self.menus[orders[i]] * orders[i+1]}원')\n",
    "        print('================================\\n')\n",
    "        table_no = int(input('테이블 번호를 입력하세요! : '))\n",
    "        \n",
    "        return [table_no, orders]\n",
    "        \n",
    "        \n",
    "        \n",
    "\n",
    "    def stack_pay(self, key):\n",
    "        table_no = key[0]\n",
    "        orders = key[1]\n",
    "        if len(orders)%2 != 0: #정상적인 경우 결제해야 하는 목록은 짝수여야 함\n",
    "            print(f'결제 대기 목록에 이상이 있습니다 \\n {orders}')\n",
    "            return\n",
    "        \n",
    "        tot_price = 0\n",
    "        for i in range(0, len(orders), 2):\n",
    "            tot_price += self.menus[orders[i]] * orders[i+1]\n",
    "        \n",
    "        self.pay_stack.append([table_no, tot_price])\n",
    "    \n",
    "    def is_pay(self, key):\n",
    "        for table_no_in_pay_stack in self.pay_stack:\n",
    "            if key == table_no_in_pay_stack[0]:\n",
    "                return True\n",
    "            \n",
    "        return False\n",
    "    \n",
    "    def pay(self, key):\n",
    "        for table_no_in_pay_stack in self.pay_stack:\n",
    "            if key == table_no_in_pay_stack[0]:\n",
    "                # 카드인지 아닌지 묻기\n",
    "                card_or_not = -1\n",
    "                print(f'\\n 총 금액 : {table_no_in_pay_stack[1]}')\n",
    "                while not card_or_not in [0,1]:\n",
    "                    card_or_not = int(input('어떤 방식으로 결제하시겠습니까? (0 : 현금, 1: 카드)\\n :'))\n",
    "                \n",
    "                if card_or_not == 0:\n",
    "                    cash = -1\n",
    "                    while cash < table_no_in_pay_stack[1]:\n",
    "                        cash = int(input('현금을 투입하세요 : '))\n",
    "                    rest = cash - table_no_in_pay_stack[1]\n",
    "                    print(f'거스름돈 반환 : {rest}')\n",
    "                    list_pay = open('list_pay.txt', 'a')\n",
    "                    list_pay.write(f'{table_no_in_pay_stack[0]} : {table_no_in_pay_stack[1]} 현금 결제\\n')\n",
    "                    \n",
    "                    del self.pay_stack[self.pay_stack.index(table_no_in_pay_stack)]\n",
    "                    list_pay.close()\n",
    "                \n",
    "                elif card_or_not == 1:\n",
    "                    print('IC카드를 투입하세요!')\n",
    "                    self.loading()\n",
    "                    list_pay = open('list_pay.txt', 'a')\n",
    "                    list_pay.write(f'{table_no_in_pay_stack[0]} : {table_no_in_pay_stack[1]} 카드 결제\\n')\n",
    "                    \n",
    "                    del self.pay_stack[self.pay_stack.index(table_no_in_pay_stack)]\n",
    "                    list_pay.close()\n",
    "    \n",
    "    \n",
    "    \n",
    "    def loading(self):\n",
    "        import time\n",
    "        i = 0\n",
    "        time.sleep(.5)\n",
    "        print('IC 카드를 뽑지 마세요!')\n",
    "        animation = \"|/-\\\\\"\n",
    "        idx = 0\n",
    "        while i < 20:\n",
    "            print(animation[idx % len(animation)], end=\"\\r\")\n",
    "            idx += 1\n",
    "            time.sleep(0.2)\n",
    "            i += 1\n",
    "\n",
    "        print('결제가 완료되었습니다!')\n",
    "            \n",
    "\n",
    "POS= POS()\n",
    "while 1:\n",
    "    POS.choose_mode()\n",
    "    POS.run()\n"
   ]
  },
  {
   "cell_type": "markdown",
<<<<<<< Updated upstream
=======
   "id": "fleet-pittsburgh",
>>>>>>> Stashed changes
   "metadata": {},
   "source": [
    "# 6월 29일 문제 풀이"
   ]
  },
  {
   "cell_type": "code",
   "execution_count": 2,
<<<<<<< Updated upstream
   "metadata": {
    "scrolled": true
   },
=======
   "id": "novel-friendship",
   "metadata": {},
>>>>>>> Stashed changes
   "outputs": [
    {
     "name": "stdout",
     "output_type": "stream",
     "text": [
      "score.txt 파일을 생성하였습니다!\n"
     ]
    },
    {
     "name": "stdin",
     "output_type": "stream",
     "text": [
      "점수를 입력하세요 :  29\n",
      "점수를 입력하세요 :  29\n",
      "점수를 입력하세요 :  29\n",
      "점수를 입력하세요 :  293\n",
      "점수를 입력하세요 :  39393\n",
      "점수를 입력하세요 :  39\n",
      "점수를 입력하세요 :  39\n",
      "점수를 입력하세요 :  3949\n",
      "점수를 입력하세요 :  49\n",
      "점수를 입력하세요 :  9\n"
     ]
    },
    {
     "name": "stdout",
     "output_type": "stream",
     "text": [
      "저장된 데이터입니다!\n",
      "['29', '29', '29', '293', '39393', '39', '39', '3949', '49', '9']\n",
      "총합 : 43858\n",
      "평균 : 4385.8\n"
     ]
    }
   ],
   "source": [
    "def score_board_make(txt):\n",
    "    f = open(txt, 'w')\n",
    "    print(f'{txt} 파일을 생성하였습니다!')\n",
    "    f.close()\n",
    "    \n",
    "def write_score(txt):\n",
    "    f = open(txt, 'a')\n",
    "    score = input('점수를 입력하세요 : ')\n",
    "    f.write(f'{score},')\n",
    "    f.close()\n",
    "\n",
    "def print_score(txt):\n",
    "    f = open(txt, 'r')\n",
    "    data = f.readlines()[0]\n",
    "    scores = data.split(',')[:-1]\n",
    "    print('저장된 데이터입니다!')\n",
    "    print(scores)\n",
    "    # for score in scores:\n",
    "    #     temp = int(score)\n",
    "    #     print(f'{temp}')\n",
    "        \n",
    "    tot = 0; n = len(scores)\n",
    "    for score in scores:\n",
    "        tot += int(score)\n",
    "    \n",
    "    print(f'총합 : {tot}')\n",
    "    print(f'평균 : {tot/n}')\n",
    "    f.close()  \n",
    "\n",
    "    \n",
    "def main():\n",
    "    i = 0\n",
    "    txt = 'score.txt'\n",
    "    score_board_make(txt)\n",
    "    while i < 10:\n",
    "        write_score(txt)\n",
    "        i += 1\n",
    "\n",
    "    print_score(txt)\n",
    "    \n",
    "main()\n",
    "\n",
    "\n",
    "# i = 0\n",
    "# txt = 'score.txt'\n",
    "# f = open(txt, 'w')\n",
    "# print(f'{txt} 파일을 생성하였습니다!')\n",
    "# f.close()\n",
    "    \n",
    "# f = open(txt, 'a')\n",
    "# while i < 10:\n",
    "#     score = input('점수를 입력하세요 : ')\n",
    "#     f.write(f'{score},')\n",
    "#     i += 1\n",
    "# f.close()\n",
    "    \n",
    "# f = open(txt, 'r')\n",
    "# data = f.readlines()[0]\n",
    "# scores = data.split(',')[:-1]\n",
    "# print('저장된 데이터입니다!')\n",
    "# print(scores)\n",
    "        \n",
    "# tot = 0; n = len(scores)\n",
    "# for score in scores:\n",
    "#     tot += int(score)\n",
    "    \n",
    "# print(f'총합 : {tot}')\n",
    "# print(f'평균 : {tot/n}')\n",
    "# f.close()  "
   ]
  },
  {
   "cell_type": "markdown",
   "metadata": {},
   "source": [
    "# 풀이5 이승희"
   ]
  },
  {
   "cell_type": "markdown",
   "metadata": {},
   "source": [
    "## 문제 정의"
   ]
  },
  {
   "cell_type": "markdown",
   "metadata": {},
   "source": [
    "모드 종류\n",
    "관리자 모드 : 비밀번호 설정, 메뉴 및 가격 추가 및 삭제의 수정\n",
    "메뉴 주문 모드\n",
    "결제 모드\n",
    "\n",
    "관리자 모드\n",
    "입력: 비밀번호\n",
    "메뉴 추가: 추가할 메뉴 및 가격 입력\n",
    "메뉴 삭제: 삭제할 메뉴 입력\n",
    "\n",
    "\n",
    "메뉴\n",
    "짜장면 = 5000원\n",
    "짬뽕 = 6000원\n",
    "볶음밥 = 6000원\n",
    "탕수육 = 10000원\n",
    "\n",
    "메뉴 주문 모드\n",
    "입력: 메뉴 종류와 개수, 테이블 번호\n",
    "\n",
    "결제 모드\n",
    "입력1: 테이블 번호\n",
    "출력1: 주문한 메뉴 내역\n",
    "입력2: 계산 방법(카드 또는 현금)\n",
    "출력2: 금액\n",
    "\n",
    "카드 결제\n",
    "결제 처리 바로 완료\n",
    "\n",
    "현금 결제\n",
    "입력: 입금 금액\n",
    "출력: 입금 금액에 따른 거스름돈\n",
    "\n",
    "결제 완료 이후\n",
    "파일 저장: 결제 내역(주문 메뉴, 금액, 결제 방식)"
   ]
  },
  {
   "cell_type": "markdown",
   "metadata": {},
   "source": [
    "## 메뉴 정의\n"
   ]
  },
  {
   "cell_type": "code",
   "execution_count": 1,
   "metadata": {},
   "outputs": [],
   "source": [
    "# 메뉴 정의\n",
    "MENU = {\"짜장면\" : 5000, \n",
    "       \"짬뽕\" : 6000, \n",
    "       \"볶음밥\" : 6000, \n",
    "       \"탕수육\" : 10000}"
   ]
  },
  {
   "cell_type": "markdown",
   "metadata": {},
   "source": [
    "## 관리자 모드"
   ]
  },
  {
   "cell_type": "code",
   "execution_count": 2,
   "metadata": {},
   "outputs": [],
   "source": [
    "# 관리자 모드\n",
    "def Admin():\n",
    "    \n",
    "    # 비밀번호\n",
    "    PW = 1234\n",
    "    \n",
    "    # 비밀번호 확인\n",
    "    pw = int(input(\"비밀번호 네자리를 입력하시오: \"))\n",
    "    if pw != PW:\n",
    "        print(\"비밀번호가 틀렸습니다!\")\n",
    "        return\n",
    "    else:\n",
    "        \n",
    "        # (메뉴 추가 or 메뉴 삭제) 선택\n",
    "        choice = int(input(\"메뉴를 추가하려면 1, 삭제하려면 2를 입력하시오: \"))\n",
    "        \n",
    "        if choice not in (1, 2): return\n",
    "        \n",
    "        elif choice == 1: # 메뉴를 추가\n",
    "            new_menu = input(\"새로 추가할 메뉴 이름을 입력하시오: \")\n",
    "            cost = int(input(\"새로 추가할 메뉴의 가격을 입력하시오[] 예)20000 ]: \"))\n",
    "            \n",
    "            # 메뉴 추가하는 코드\n",
    "            MENU[new_menu] = cost\n",
    "            print(\"메뉴 추가가 완료되었습니다!\")\n",
    "            return\n",
    "        \n",
    "        elif choice == 2: # 메뉴를 삭제\n",
    "            del_menu = input(\"삭제할 메뉴의 이름을 정확히 입력하시오: \")\n",
    "            \n",
    "            # 삭제할 메뉴가 존재하지 않음\n",
    "            if (del_menu in MENU) == False:\n",
    "                print(\"삭제할 메뉴가 존재하지 않습니다!\")\n",
    "                return\n",
    "                \n",
    "            # 삭제할 메뉴가 존재\n",
    "            else: # (del_menu in MENU) == True:\n",
    "                del MENU[del_menu]\n",
    "                print(\"삭제가 완료되었습니다!\")\n",
    "                return\n",
    "            \n",
    "        else: return # 혹시 모를 예외의 경우"
   ]
  },
  {
   "cell_type": "code",
   "execution_count": 5,
   "metadata": {
    "scrolled": true
   },
   "outputs": [
    {
     "name": "stdout",
     "output_type": "stream",
     "text": [
      "비밀번호 네자리를 입력하시오: 1234\n",
      "메뉴를 추가하려면 1, 삭제하려면 2를 입력하시오: 2\n",
      "삭제할 메뉴의 이름을 정확히 입력하시오: 사이다\n",
      "삭제가 완료되었습니다!\n"
     ]
    }
   ],
   "source": [
    "Admin()"
   ]
  },
  {
   "cell_type": "code",
   "execution_count": 6,
   "metadata": {},
   "outputs": [
    {
     "data": {
      "text/plain": [
       "{'짜장면': 5000, '짬뽕': 6000, '볶음밥': 6000, '탕수육': 10000}"
      ]
     },
     "execution_count": 6,
     "metadata": {},
     "output_type": "execute_result"
    }
   ],
   "source": [
    "MENU"
   ]
  },
  {
   "cell_type": "markdown",
   "metadata": {},
   "source": [
    "## 메뉴 주문 모드"
   ]
  },
  {
   "cell_type": "code",
   "execution_count": null,
   "metadata": {},
   "outputs": [],
   "source": [
    "def MenuOrder():\n",
    "    "
   ]
  },
  {
   "cell_type": "markdown",
   "metadata": {},
   "source": [
    "## 결제 모드"
   ]
  },
  {
   "cell_type": "code",
   "execution_count": null,
   "metadata": {},
   "outputs": [],
   "source": []
  },
  {
   "cell_type": "markdown",
   "metadata": {},
   "source": [
    "############################################풀이5 이승희############################################"
   ]
  },
  {
   "cell_type": "code",
   "execution_count": null,
   "metadata": {},
   "outputs": [],
   "source": []
  }
 ],
 "metadata": {
  "kernelspec": {
   "display_name": "Python 3",
   "language": "python",
   "name": "python3"
  },
  "language_info": {
   "codemirror_mode": {
    "name": "ipython",
    "version": 3
   },
   "file_extension": ".py",
   "mimetype": "text/x-python",
   "name": "python",
   "nbconvert_exporter": "python",
   "pygments_lexer": "ipython3",
   "version": "3.8.5"
  }
 },
 "nbformat": 4,
 "nbformat_minor": 5
}
