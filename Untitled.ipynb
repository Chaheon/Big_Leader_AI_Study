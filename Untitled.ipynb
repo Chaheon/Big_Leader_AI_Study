{
 "cells": [
  {
   "cell_type": "markdown",
   "id": "short-beast",
   "metadata": {},
   "source": [
    "# 6월 29일 문제 풀이"
   ]
  },
  {
   "cell_type": "code",
   "execution_count": 2,
   "id": "tamil-expense",
   "metadata": {},
   "outputs": [
    {
     "name": "stdout",
     "output_type": "stream",
     "text": [
      "score.txt 파일을 생성하였습니다!\n"
     ]
    },
    {
     "name": "stdin",
     "output_type": "stream",
     "text": [
      "점수를 입력하세요 :  29\n",
      "점수를 입력하세요 :  29\n",
      "점수를 입력하세요 :  29\n",
      "점수를 입력하세요 :  293\n",
      "점수를 입력하세요 :  39393\n",
      "점수를 입력하세요 :  39\n",
      "점수를 입력하세요 :  39\n",
      "점수를 입력하세요 :  3949\n",
      "점수를 입력하세요 :  49\n",
      "점수를 입력하세요 :  9\n"
     ]
    },
    {
     "name": "stdout",
     "output_type": "stream",
     "text": [
      "저장된 데이터입니다!\n",
      "['29', '29', '29', '293', '39393', '39', '39', '3949', '49', '9']\n",
      "총합 : 43858\n",
      "평균 : 4385.8\n"
     ]
    }
   ],
   "source": [
    "def score_board_make(txt):\n",
    "    f = open(txt, 'w')\n",
    "    print(f'{txt} 파일을 생성하였습니다!')\n",
    "    f.close()\n",
    "    \n",
    "def write_score(txt):\n",
    "    f = open(txt, 'a')\n",
    "    score = input('점수를 입력하세요 : ')\n",
    "    f.write(f'{score},')\n",
    "    f.close()\n",
    "\n",
    "def print_score(txt):\n",
    "    f = open(txt, 'r')\n",
    "    data = f.readlines()[0]\n",
    "    scores = data.split(',')[:-1]\n",
    "    print('저장된 데이터입니다!')\n",
    "    print(scores)\n",
    "    # for score in scores:\n",
    "    #     temp = int(score)\n",
    "    #     print(f'{temp}')\n",
    "        \n",
    "    tot = 0; n = len(scores)\n",
    "    for score in scores:\n",
    "        tot += int(score)\n",
    "    \n",
    "    print(f'총합 : {tot}')\n",
    "    print(f'평균 : {tot/n}')\n",
    "    f.close()  \n",
    "\n",
    "    \n",
    "def main():\n",
    "    i = 0\n",
    "    txt = 'score.txt'\n",
    "    score_board_make(txt)\n",
    "    while i < 10:\n",
    "        write_score(txt)\n",
    "        i += 1\n",
    "\n",
    "    print_score(txt)\n",
    "    \n",
    "main()\n",
    "\n",
    "\n",
    "# i = 0\n",
    "# txt = 'score.txt'\n",
    "# f = open(txt, 'w')\n",
    "# print(f'{txt} 파일을 생성하였습니다!')\n",
    "# f.close()\n",
    "    \n",
    "# f = open(txt, 'a')\n",
    "# while i < 10:\n",
    "#     score = input('점수를 입력하세요 : ')\n",
    "#     f.write(f'{score},')\n",
    "#     i += 1\n",
    "# f.close()\n",
    "    \n",
    "# f = open(txt, 'r')\n",
    "# data = f.readlines()[0]\n",
    "# scores = data.split(',')[:-1]\n",
    "# print('저장된 데이터입니다!')\n",
    "# print(scores)\n",
    "        \n",
    "# tot = 0; n = len(scores)\n",
    "# for score in scores:\n",
    "#     tot += int(score)\n",
    "    \n",
    "# print(f'총합 : {tot}')\n",
    "# print(f'평균 : {tot/n}')\n",
    "# f.close()  "
   ]
  }
 ],
 "metadata": {
  "kernelspec": {
   "display_name": "Python 3",
   "language": "python",
   "name": "python3"
  },
  "language_info": {
   "codemirror_mode": {
    "name": "ipython",
    "version": 3
   },
   "file_extension": ".py",
   "mimetype": "text/x-python",
   "name": "python",
   "nbconvert_exporter": "python",
   "pygments_lexer": "ipython3",
   "version": "3.8.8"
  }
 },
 "nbformat": 4,
 "nbformat_minor": 5
}
