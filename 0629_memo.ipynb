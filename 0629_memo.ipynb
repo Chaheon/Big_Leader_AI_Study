{
 "cells": [
  {
   "cell_type": "markdown",
   "id": "chronic-probability",
   "metadata": {},
   "source": [
    "## 0629 수업 메모 \n",
    "\n",
    "* 올리시면 제가 정리하겠습니다~!\n",
    "\n",
    "제목 + 성함 맨 위에 적어주시고 \n",
    "아래에는 메모한거 (공유하고 싶은것만 올리세요)"
   ]
  },
  {
   "cell_type": "code",
   "execution_count": null,
   "id": "breathing-recommendation",
   "metadata": {},
   "outputs": [],
   "source": []
  }
 ],
 "metadata": {
  "kernelspec": {
   "display_name": "Python 3",
   "language": "python",
   "name": "python3"
  },
  "language_info": {
   "codemirror_mode": {
    "name": "ipython",
    "version": 3
   },
   "file_extension": ".py",
   "mimetype": "text/x-python",
   "name": "python",
   "nbconvert_exporter": "python",
   "pygments_lexer": "ipython3",
   "version": "3.8.8"
  }
 },
 "nbformat": 4,
 "nbformat_minor": 5
}
