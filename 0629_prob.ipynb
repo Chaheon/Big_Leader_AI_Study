{
 "cells": [
  {
   "cell_type": "code",
   "execution_count": null,
   "id": "respected-characteristic",
   "metadata": {},
   "outputs": [],
   "source": [
    "score=[70,60,55,75,95,90,80,80,85,100]\n",
    "with open(\"score.txt\", 'w') as f:  # with는 open과 close가 동시에 된다. \n",
    "    \n",
    "    for i in score:\n",
    "        a = '{} \\n' .format(i)\n",
    "        f.write(a)"
   ]
  }
 ],
 "metadata": {
  "kernelspec": {
   "display_name": "Python 3",
   "language": "python",
   "name": "python3"
  },
  "language_info": {
   "codemirror_mode": {
    "name": "ipython",
    "version": 3
   },
   "file_extension": ".py",
   "mimetype": "text/x-python",
   "name": "python",
   "nbconvert_exporter": "python",
   "pygments_lexer": "ipython3",
   "version": "3.8.8"
  }
 },
 "nbformat": 4,
 "nbformat_minor": 5
}
