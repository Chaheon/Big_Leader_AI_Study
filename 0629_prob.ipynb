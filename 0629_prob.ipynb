{
 "cells": [
  {
   "cell_type": "markdown",
   "id": "presidential-offset",
   "metadata": {},
   "source": [
    "## 0629 실습 문제 ## "
   ]
  },
  {
   "cell_type": "markdown",
   "id": "biological-cruise",
   "metadata": {},
   "source": [
    "`-` 올리는 예시 \n",
    "\n",
    "풀이1 김차헌 \n",
    "\n",
    "알고리즘 "
   ]
  },
  {
   "cell_type": "code",
   "execution_count": null,
   "id": "indie-marker",
   "metadata": {},
   "outputs": [],
   "source": []
  }
 ],
 "metadata": {
  "kernelspec": {
   "display_name": "Python 3",
   "language": "python",
   "name": "python3"
  },
  "language_info": {
   "codemirror_mode": {
    "name": "ipython",
    "version": 3
   },
   "file_extension": ".py",
   "mimetype": "text/x-python",
   "name": "python",
   "nbconvert_exporter": "python",
   "pygments_lexer": "ipython3",
   "version": "3.8.8"
  }
 },
 "nbformat": 4,
 "nbformat_minor": 5
}
