{
 "cells": [
  {
   "cell_type": "markdown",
   "id": "careful-faculty",
   "metadata": {},
   "source": [
    "## 0701 수업 메모"
   ]
  },
  {
   "cell_type": "markdown",
   "id": "according-seven",
   "metadata": {},
   "source": [
    "### 주유소 데이터 분석\n",
    "\n",
    "* 본인 고향의 주유소 데이터를 크롤링을 하고 분석, 시각화 해보자!"
   ]
  },
  {
   "cell_type": "code",
   "execution_count": null,
   "id": "congressional-lafayette",
   "metadata": {},
   "outputs": [],
   "source": []
  }
 ],
 "metadata": {
  "kernelspec": {
   "display_name": "Python 3",
   "language": "python",
   "name": "python3"
  },
  "language_info": {
   "codemirror_mode": {
    "name": "ipython",
    "version": 3
   },
   "file_extension": ".py",
   "mimetype": "text/x-python",
   "name": "python",
   "nbconvert_exporter": "python",
   "pygments_lexer": "ipython3",
   "version": "3.8.8"
  }
 },
 "nbformat": 4,
 "nbformat_minor": 5
}
