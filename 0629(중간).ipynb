{
 "cells": [
  {
   "cell_type": "markdown",
   "metadata": {},
   "source": [
    "나는 IT 회사에 다니고 있는 프로그래머이다. 팀원들과 개발 계획 회의 안건으로 포스트코로나 시대에 많이 사용될 프로그램에 대해서 의논하고 있다. 많은 안건 중 팀장님께서 무인 POS(점포 판매 시스템)가 많이 사용될 것이라고 예상을 하고 무인 POS를 개발하자고 하셨다.\n",
    "\n",
    "먼저, 관리자 모드와 메뉴 주문 모드 및 결제모드로 구분된다. 관리자 모드는 비밀번호가 설정되어 있고, 메뉴 및 가격을 추가 및 삭제의 수정을 할 수 있다.\n",
    "\n",
    "기본 메뉴로는 자장면 5000원, 짬뽕 6000원, 볶음밥 6000원, 탕수육 10000원이고 주문 시에는 메뉴 종류와 개수를 입력한다. 또한, 테이블 번호도 메뉴 주문 시에 입력을 한다.\n",
    "\n",
    "결제시에는 테이블 번호를 입력하면 주문한 메뉴 내역이 출력이 된다. 카드 또는 현금으로 처리할 것이지 선택 후 금액을 입력하면 결제가 완료 된다. 카드면 처리가 바로 완료되며, 현금이면 입금 금액에 따라서 잔액을 알려줘야 한다.\n",
    "\n",
    "결제 내역(list_pay.txt)은 정산을 위해 파일로 저장이 되어야 한다. 소스코드는 코드의 재사용 및 효율성을 위해 함수를 만들어서 작성하라는 지시를 받았다."
   ]
  },
  {
   "cell_type": "code",
   "execution_count": 11,
   "metadata": {},
   "outputs": [],
   "source": [
    "def admin_mod(dic) :\n",
    "    manu, fee = input(\"메뉴과 가격을 입력해주세요.\").split(' ')\n",
    "    dic[manu] = fee\n",
    "    return dic"
   ]
  },
  {
   "cell_type": "code",
   "execution_count": 8,
   "metadata": {},
   "outputs": [],
   "source": [
    "oder_dic = {'자장면' : 2, '짬뽕' : 2}\n",
    "with open('oder.txt', 'w') as f :\n",
    "    for i in oder_dic :\n",
    "        f.write(i+' '+str(oder_dic[i])+'\\n')"
   ]
  },
  {
   "cell_type": "code",
   "execution_count": 27,
   "metadata": {},
   "outputs": [],
   "source": [
    "def order_mod(dic) :\n",
    "    order_dic = {}\n",
    "    total = 0\n",
    "    for i in dic.keys() :\n",
    "        order_dic[i] = 0\n",
    "    while(1) :\n",
    "        try :\n",
    "            print('메뉴', dic.keys())\n",
    "            manu, num = input('메뉴와 수량 또는 결제를 작성해 주세요.').split(' ')            \n",
    "            order_dic[manu] = num\n",
    "        except :\n",
    "            for i in order_dic.keys() :\n",
    "                if int(order_dic[i]) > 0 :\n",
    "                    total += int(order_dic[i]) * int(dic[i])\n",
    "            with open('order.txt', 'w') as f :\n",
    "                for i in oder_dic :\n",
    "                    f.write(i+' '+str(oder_dic[i])+'\\n') \n",
    "                f.write('총 금액 : '+str(total))\n",
    "            return order_dic"
   ]
  },
  {
   "cell_type": "code",
   "execution_count": null,
   "metadata": {},
   "outputs": [],
   "source": [
    "def pos_order(dic) :\n",
    "    mode = input()\n",
    "    if mode == \"관리자 모드\" :\n",
    "        dic = admin_mod(dic)\n",
    "    elif mode == \"메뉴 주문 모드\" :\n",
    "        order_mod(dic)"
   ]
  },
  {
   "cell_type": "code",
   "execution_count": 28,
   "metadata": {},
   "outputs": [
    {
     "name": "stdout",
     "output_type": "stream",
     "text": [
      "메뉴 dict_keys(['자장면', '짬뽕', '볶음밥', '탕수육'])\n",
      "메뉴와 수량 또는 결제를 작성해 주세요.자장면 2\n",
      "메뉴 dict_keys(['자장면', '짬뽕', '볶음밥', '탕수육'])\n",
      "메뉴와 수량 또는 결제를 작성해 주세요.\n"
     ]
    },
    {
     "data": {
      "text/plain": [
       "{'자장면': '2', '짬뽕': 0, '볶음밥': 0, '탕수육': 0}"
      ]
     },
     "execution_count": 28,
     "metadata": {},
     "output_type": "execute_result"
    }
   ],
   "source": [
    "manu_dic = {\"자장면\":5000, \"짬뽕\":6000, \"볶음밥\":6000, \"탕수육\":10000}\n",
    "\n",
    "order_mod(manu_dic)"
   ]
  }
 ],
 "metadata": {
  "kernelspec": {
   "display_name": "Python 3",
   "language": "python",
   "name": "python3"
  },
  "language_info": {
   "codemirror_mode": {
    "name": "ipython",
    "version": 3
   },
   "file_extension": ".py",
   "mimetype": "text/x-python",
   "name": "python",
   "nbconvert_exporter": "python",
   "pygments_lexer": "ipython3",
   "version": "3.8.5"
  }
 },
 "nbformat": 4,
 "nbformat_minor": 4
}
